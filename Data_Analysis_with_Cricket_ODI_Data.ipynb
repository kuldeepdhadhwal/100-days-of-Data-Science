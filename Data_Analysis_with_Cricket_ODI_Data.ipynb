{
  "nbformat": 4,
  "nbformat_minor": 0,
  "metadata": {
    "colab": {
      "name": "Data Analysis with Cricket ODI Data.ipynb",
      "version": "0.3.2",
      "provenance": [],
      "toc_visible": true,
      "include_colab_link": true
    },
    "kernelspec": {
      "name": "python3",
      "display_name": "Python 3"
    }
  },
  "cells": [
    {
      "cell_type": "markdown",
      "metadata": {
        "id": "view-in-github",
        "colab_type": "text"
      },
      "source": [
        "<a href=\"https://colab.research.google.com/github/kuldeepdhadhwal/100-days-of-Data-Science/blob/master/Data_Analysis_with_Cricket_ODI_Data.ipynb\" target=\"_parent\"><img src=\"https://colab.research.google.com/assets/colab-badge.svg\" alt=\"Open In Colab\"/></a>"
      ]
    },
    {
      "cell_type": "markdown",
      "metadata": {
        "id": "zU-XrZTagkl5",
        "colab_type": "text"
      },
      "source": [
        "#Data Analysis"
      ]
    },
    {
      "cell_type": "code",
      "metadata": {
        "id": "pZdjZI8AhXf4",
        "colab_type": "code",
        "colab": {
          "base_uri": "https://localhost:8080/",
          "height": 52
        },
        "outputId": "638807ae-d6bc-4d86-cb78-f181bc071b64"
      },
      "source": [
        "# importing the data from the google drive\n",
        "from google.colab import drive\n",
        "drive.mount('/gdrive')\n",
        "%cd /gdrive"
      ],
      "execution_count": 106,
      "outputs": [
        {
          "output_type": "stream",
          "text": [
            "Drive already mounted at /gdrive; to attempt to forcibly remount, call drive.mount(\"/gdrive\", force_remount=True).\n",
            "/gdrive\n"
          ],
          "name": "stdout"
        }
      ]
    },
    {
      "cell_type": "code",
      "metadata": {
        "id": "i3cnttTsihUi",
        "colab_type": "code",
        "colab": {
          "base_uri": "https://localhost:8080/",
          "height": 34
        },
        "outputId": "7f2765cb-eab6-4d1b-a019-83bdb07fa394"
      },
      "source": [
        "cd /gdrive/My\\ Drive/odi-cricket-matches-19712017/\n"
      ],
      "execution_count": 107,
      "outputs": [
        {
          "output_type": "stream",
          "text": [
            "/gdrive/My Drive/odi-cricket-matches-19712017\n"
          ],
          "name": "stdout"
        }
      ]
    },
    {
      "cell_type": "code",
      "metadata": {
        "id": "vYbAZ0JbhiUL",
        "colab_type": "code",
        "colab": {
          "base_uri": "https://localhost:8080/",
          "height": 52
        },
        "outputId": "e5f365ba-ad72-4e23-b70a-a77470f3c21e"
      },
      "source": [
        "# using the ls to see the number of files in the current directory\n",
        "ls"
      ],
      "execution_count": 108,
      "outputs": [
        {
          "output_type": "stream",
          "text": [
            "CategoricalDataset.csv  LabelledDataset.csv\n",
            "ContinousDataset.csv    originalDataset.csv\n"
          ],
          "name": "stdout"
        }
      ]
    },
    {
      "cell_type": "code",
      "metadata": {
        "id": "HAl6MCaekKKp",
        "colab_type": "code",
        "colab": {}
      },
      "source": [
        "import pandas as pd\n",
        "import numpy as np\n",
        "import matplotlib.pyplot as plt\n",
        "import numpy as np\n"
      ],
      "execution_count": 0,
      "outputs": []
    },
    {
      "cell_type": "code",
      "metadata": {
        "id": "kdi5IavTjjmQ",
        "colab_type": "code",
        "colab": {}
      },
      "source": [
        "data = pd.read_csv('/gdrive/My Drive/odi-cricket-matches-19712017/originalDataset.csv')"
      ],
      "execution_count": 0,
      "outputs": []
    },
    {
      "cell_type": "code",
      "metadata": {
        "id": "2VMi-V6dlLHZ",
        "colab_type": "code",
        "colab": {
          "base_uri": "https://localhost:8080/",
          "height": 206
        },
        "outputId": "f83e1a01-74d8-454f-9f82-f91cd6b29d5f"
      },
      "source": [
        "data.head(5)"
      ],
      "execution_count": 111,
      "outputs": [
        {
          "output_type": "execute_result",
          "data": {
            "text/html": [
              "<div>\n",
              "<style scoped>\n",
              "    .dataframe tbody tr th:only-of-type {\n",
              "        vertical-align: middle;\n",
              "    }\n",
              "\n",
              "    .dataframe tbody tr th {\n",
              "        vertical-align: top;\n",
              "    }\n",
              "\n",
              "    .dataframe thead th {\n",
              "        text-align: right;\n",
              "    }\n",
              "</style>\n",
              "<table border=\"1\" class=\"dataframe\">\n",
              "  <thead>\n",
              "    <tr style=\"text-align: right;\">\n",
              "      <th></th>\n",
              "      <th>Scorecard</th>\n",
              "      <th>Team 1</th>\n",
              "      <th>Team 2</th>\n",
              "      <th>Winner</th>\n",
              "      <th>Margin</th>\n",
              "      <th>Ground</th>\n",
              "      <th>Match Date</th>\n",
              "    </tr>\n",
              "  </thead>\n",
              "  <tbody>\n",
              "    <tr>\n",
              "      <th>0</th>\n",
              "      <td>ODI # 1</td>\n",
              "      <td>Australia</td>\n",
              "      <td>England</td>\n",
              "      <td>Australia</td>\n",
              "      <td>5 wickets</td>\n",
              "      <td>Melbourne</td>\n",
              "      <td>Jan 5, 1971</td>\n",
              "    </tr>\n",
              "    <tr>\n",
              "      <th>1</th>\n",
              "      <td>ODI # 2</td>\n",
              "      <td>England</td>\n",
              "      <td>Australia</td>\n",
              "      <td>England</td>\n",
              "      <td>6 wickets</td>\n",
              "      <td>Manchester</td>\n",
              "      <td>Aug 24, 1972</td>\n",
              "    </tr>\n",
              "    <tr>\n",
              "      <th>2</th>\n",
              "      <td>ODI # 3</td>\n",
              "      <td>England</td>\n",
              "      <td>Australia</td>\n",
              "      <td>Australia</td>\n",
              "      <td>5 wickets</td>\n",
              "      <td>Lord's</td>\n",
              "      <td>Aug 26, 1972</td>\n",
              "    </tr>\n",
              "    <tr>\n",
              "      <th>3</th>\n",
              "      <td>ODI # 4</td>\n",
              "      <td>England</td>\n",
              "      <td>Australia</td>\n",
              "      <td>England</td>\n",
              "      <td>2 wickets</td>\n",
              "      <td>Birmingham</td>\n",
              "      <td>Aug 28, 1972</td>\n",
              "    </tr>\n",
              "    <tr>\n",
              "      <th>4</th>\n",
              "      <td>ODI # 5</td>\n",
              "      <td>New Zealand</td>\n",
              "      <td>Pakistan</td>\n",
              "      <td>New Zealand</td>\n",
              "      <td>22 runs</td>\n",
              "      <td>Christchurch</td>\n",
              "      <td>Feb 11, 1973</td>\n",
              "    </tr>\n",
              "  </tbody>\n",
              "</table>\n",
              "</div>"
            ],
            "text/plain": [
              "  Scorecard       Team 1     Team 2  ...     Margin        Ground    Match Date\n",
              "0   ODI # 1    Australia    England  ...  5 wickets     Melbourne   Jan 5, 1971\n",
              "1   ODI # 2      England  Australia  ...  6 wickets    Manchester  Aug 24, 1972\n",
              "2   ODI # 3      England  Australia  ...  5 wickets        Lord's  Aug 26, 1972\n",
              "3   ODI # 4      England  Australia  ...  2 wickets    Birmingham  Aug 28, 1972\n",
              "4   ODI # 5  New Zealand   Pakistan  ...    22 runs  Christchurch  Feb 11, 1973\n",
              "\n",
              "[5 rows x 7 columns]"
            ]
          },
          "metadata": {
            "tags": []
          },
          "execution_count": 111
        }
      ]
    },
    {
      "cell_type": "code",
      "metadata": {
        "id": "kkvvAo2clRRI",
        "colab_type": "code",
        "colab": {
          "base_uri": "https://localhost:8080/",
          "height": 156
        },
        "outputId": "d9d2a870-07a2-4378-aba7-794a33832776"
      },
      "source": [
        "data.isnull().sum()"
      ],
      "execution_count": 112,
      "outputs": [
        {
          "output_type": "execute_result",
          "data": {
            "text/plain": [
              "Scorecard       0\n",
              "Team 1          0\n",
              "Team 2          0\n",
              "Winner          0\n",
              "Margin        179\n",
              "Ground          0\n",
              "Match Date      0\n",
              "dtype: int64"
            ]
          },
          "metadata": {
            "tags": []
          },
          "execution_count": 112
        }
      ]
    },
    {
      "cell_type": "code",
      "metadata": {
        "id": "q92JGa4IlXUL",
        "colab_type": "code",
        "colab": {
          "base_uri": "https://localhost:8080/",
          "height": 104
        },
        "outputId": "aa87029b-8559-4019-d8ac-8bc8550f463b"
      },
      "source": [
        "# find out the  number of teams \n",
        "data['Team 1'].unique()"
      ],
      "execution_count": 113,
      "outputs": [
        {
          "output_type": "execute_result",
          "data": {
            "text/plain": [
              "array(['Australia', 'England', 'New Zealand', 'East Africa', 'Sri Lanka',\n",
              "       'Pakistan', 'India', 'West Indies', 'Canada', 'Bangladesh',\n",
              "       'South Africa', 'Zimbabwe', 'U.A.E.', 'Netherlands', 'Kenya',\n",
              "       'Scotland', 'Namibia', 'Hong Kong', 'Asia XI', 'Africa XI',\n",
              "       'Bermuda', 'Ireland', 'Afghanistan', 'P.N.G.'], dtype=object)"
            ]
          },
          "metadata": {
            "tags": []
          },
          "execution_count": 113
        }
      ]
    },
    {
      "cell_type": "code",
      "metadata": {
        "id": "9_aHpzB1ofIr",
        "colab_type": "code",
        "colab": {
          "base_uri": "https://localhost:8080/",
          "height": 34
        },
        "outputId": "632ffe39-7d18-43f0-cfd1-b93d9051c95c"
      },
      "source": [
        "# let's the number of total teams\n",
        "data['Team 1'].nunique()"
      ],
      "execution_count": 114,
      "outputs": [
        {
          "output_type": "execute_result",
          "data": {
            "text/plain": [
              "24"
            ]
          },
          "metadata": {
            "tags": []
          },
          "execution_count": 114
        }
      ]
    },
    {
      "cell_type": "code",
      "metadata": {
        "id": "ZoXSP5NWqcof",
        "colab_type": "code",
        "colab": {
          "base_uri": "https://localhost:8080/",
          "height": 121
        },
        "outputId": "6dd8ef4a-c3fe-468c-e7e2-3cd60c32cb02"
      },
      "source": [
        "data['Winner'].unique()\n",
        "\n",
        "\n",
        "# data.set_index([\"Winner\"]).count(level=\"Winner\")"
      ],
      "execution_count": 115,
      "outputs": [
        {
          "output_type": "execute_result",
          "data": {
            "text/plain": [
              "array(['Australia', 'England', 'New Zealand', 'no result', 'West Indies',\n",
              "       'Pakistan', 'India', 'Sri Lanka', 'Zimbabwe', 'tied',\n",
              "       'South Africa', 'Kenya', 'U.A.E.', 'Bangladesh', 'Canada',\n",
              "       'Netherlands', 'ICC World XI', 'Africa XI', 'Asia XI', 'Bermuda',\n",
              "       'Ireland', 'Scotland', 'Afghanistan', 'P.N.G.', 'Hong Kong'],\n",
              "      dtype=object)"
            ]
          },
          "metadata": {
            "tags": []
          },
          "execution_count": 115
        }
      ]
    },
    {
      "cell_type": "code",
      "metadata": {
        "id": "zCg2S321nRqz",
        "colab_type": "code",
        "colab": {
          "base_uri": "https://localhost:8080/",
          "height": 469
        },
        "outputId": "c6ffdfe8-3104-4dd5-8454-3bbe4a4fd487"
      },
      "source": [
        "#Here we are simply finding out the top winning teams in the ODI formats\n",
        "data['Winner'].value_counts()"
      ],
      "execution_count": 116,
      "outputs": [
        {
          "output_type": "execute_result",
          "data": {
            "text/plain": [
              "Australia       555\n",
              "India           476\n",
              "Pakistan        469\n",
              "West Indies     380\n",
              "Sri Lanka       372\n",
              "South Africa    361\n",
              "England         343\n",
              "New Zealand     324\n",
              "no result       140\n",
              "Zimbabwe        129\n",
              "Bangladesh      105\n",
              "Ireland          51\n",
              "Kenya            42\n",
              "Afghanistan      42\n",
              "tied             34\n",
              "Scotland         31\n",
              "Netherlands      28\n",
              "Canada           17\n",
              "U.A.E.            9\n",
              "Bermuda           7\n",
              "Hong Kong         6\n",
              "P.N.G.            5\n",
              "Asia XI           4\n",
              "Africa XI         1\n",
              "ICC World XI      1\n",
              "Name: Winner, dtype: int64"
            ]
          },
          "metadata": {
            "tags": []
          },
          "execution_count": 116
        }
      ]
    },
    {
      "cell_type": "markdown",
      "metadata": {
        "id": "7n7JMLt8v3Xk",
        "colab_type": "text"
      },
      "source": [
        "With This Value Counts , We are able to see the top winning team .\n",
        "Tied Matches : 34\n",
        "No Result : 140"
      ]
    },
    {
      "cell_type": "code",
      "metadata": {
        "id": "qcC9_nX2vm96",
        "colab_type": "code",
        "colab": {
          "base_uri": "https://localhost:8080/",
          "height": 325
        },
        "outputId": "9c63fd74-157c-4e6c-bc0e-f0f50d778c8c"
      },
      "source": [
        "# showing the bar plot with the maximum wins\n",
        "data[\"Winner\"].value_counts().plot.bar()\n",
        "\n",
        "plt.show()"
      ],
      "execution_count": 117,
      "outputs": [
        {
          "output_type": "display_data",
          "data": {
            "image/png": "[encoded data removed]",
            "text/plain": [
              "<Figure size 432x288 with 1 Axes>"
            ]
          },
          "metadata": {
            "tags": []
          }
        }
      ]
    },
    {
      "cell_type": "code",
      "metadata": {
        "id": "jK1FWSY_xFDS",
        "colab_type": "code",
        "colab": {
          "base_uri": "https://localhost:8080/",
          "height": 255
        },
        "outputId": "b2f87206-396f-4310-e96a-35ae66b1b06a"
      },
      "source": [
        "# we can see it with the pie chart maximum wins\n",
        "data[\"Winner\"].value_counts().plot.pie()\n",
        "plt.gca().set_aspect(\"equal\")"
      ],
      "execution_count": 118,
      "outputs": [
        {
          "output_type": "display_data",
          "data": {
            "image/png": "[encoded data removed]",
            "text/plain": [
              "<Figure size 432x288 with 1 Axes>"
            ]
          },
          "metadata": {
            "tags": []
          }
        }
      ]
    },
    {
      "cell_type": "markdown",
      "metadata": {
        "id": "6B0FES5UxZ1_",
        "colab_type": "text"
      },
      "source": [
        "We can see that a Pie Chart is not so fit, while there are a large number of columns in it . So we won't use them so much for this .\n",
        "**But from here we can find that Australia has won the most matches **"
      ]
    },
    {
      "cell_type": "markdown",
      "metadata": {
        "id": "TixgpN8jyo4I",
        "colab_type": "text"
      },
      "source": [
        "**With the year we can look which team has won maximum matches and when**"
      ]
    },
    {
      "cell_type": "code",
      "metadata": {
        "id": "gfN-k1OeyFxW",
        "colab_type": "code",
        "colab": {
          "base_uri": "https://localhost:8080/",
          "height": 206
        },
        "outputId": "c422d7db-5ec6-4f9f-af6b-080687ee984d"
      },
      "source": [
        "# checking \n",
        "data[['Winner','Match Date']].head()"
      ],
      "execution_count": 119,
      "outputs": [
        {
          "output_type": "execute_result",
          "data": {
            "text/html": [
              "<div>\n",
              "<style scoped>\n",
              "    .dataframe tbody tr th:only-of-type {\n",
              "        vertical-align: middle;\n",
              "    }\n",
              "\n",
              "    .dataframe tbody tr th {\n",
              "        vertical-align: top;\n",
              "    }\n",
              "\n",
              "    .dataframe thead th {\n",
              "        text-align: right;\n",
              "    }\n",
              "</style>\n",
              "<table border=\"1\" class=\"dataframe\">\n",
              "  <thead>\n",
              "    <tr style=\"text-align: right;\">\n",
              "      <th></th>\n",
              "      <th>Winner</th>\n",
              "      <th>Match Date</th>\n",
              "    </tr>\n",
              "  </thead>\n",
              "  <tbody>\n",
              "    <tr>\n",
              "      <th>0</th>\n",
              "      <td>Australia</td>\n",
              "      <td>Jan 5, 1971</td>\n",
              "    </tr>\n",
              "    <tr>\n",
              "      <th>1</th>\n",
              "      <td>England</td>\n",
              "      <td>Aug 24, 1972</td>\n",
              "    </tr>\n",
              "    <tr>\n",
              "      <th>2</th>\n",
              "      <td>Australia</td>\n",
              "      <td>Aug 26, 1972</td>\n",
              "    </tr>\n",
              "    <tr>\n",
              "      <th>3</th>\n",
              "      <td>England</td>\n",
              "      <td>Aug 28, 1972</td>\n",
              "    </tr>\n",
              "    <tr>\n",
              "      <th>4</th>\n",
              "      <td>New Zealand</td>\n",
              "      <td>Feb 11, 1973</td>\n",
              "    </tr>\n",
              "  </tbody>\n",
              "</table>\n",
              "</div>"
            ],
            "text/plain": [
              "        Winner    Match Date\n",
              "0    Australia   Jan 5, 1971\n",
              "1      England  Aug 24, 1972\n",
              "2    Australia  Aug 26, 1972\n",
              "3      England  Aug 28, 1972\n",
              "4  New Zealand  Feb 11, 1973"
            ]
          },
          "metadata": {
            "tags": []
          },
          "execution_count": 119
        }
      ]
    },
    {
      "cell_type": "code",
      "metadata": {
        "id": "B5qpMckf0qo4",
        "colab_type": "code",
        "colab": {
          "base_uri": "https://localhost:8080/",
          "height": 121
        },
        "outputId": "4e735850-07a8-4484-d6cd-224ed5fd8d4f"
      },
      "source": [
        "\n",
        "# got the year\n",
        "data['Match Date'].apply(lambda year : year[-4:]).head() "
      ],
      "execution_count": 120,
      "outputs": [
        {
          "output_type": "execute_result",
          "data": {
            "text/plain": [
              "0    1971\n",
              "1    1972\n",
              "2    1972\n",
              "3    1972\n",
              "4    1973\n",
              "Name: Match Date, dtype: object"
            ]
          },
          "metadata": {
            "tags": []
          },
          "execution_count": 120
        }
      ]
    },
    {
      "cell_type": "code",
      "metadata": {
        "id": "JkhOho-vzUGS",
        "colab_type": "code",
        "colab": {
          "base_uri": "https://localhost:8080/",
          "height": 206
        },
        "outputId": "31f17066-a3ba-4c75-d7aa-57f7b43083ee"
      },
      "source": [
        ""
      ],
      "execution_count": 97,
      "outputs": [
        {
          "output_type": "execute_result",
          "data": {
            "text/html": [
              "<div>\n",
              "<style scoped>\n",
              "    .dataframe tbody tr th:only-of-type {\n",
              "        vertical-align: middle;\n",
              "    }\n",
              "\n",
              "    .dataframe tbody tr th {\n",
              "        vertical-align: top;\n",
              "    }\n",
              "\n",
              "    .dataframe thead th {\n",
              "        text-align: right;\n",
              "    }\n",
              "</style>\n",
              "<table border=\"1\" class=\"dataframe\">\n",
              "  <thead>\n",
              "    <tr style=\"text-align: right;\">\n",
              "      <th></th>\n",
              "      <th>Scorecard</th>\n",
              "      <th>Team 1</th>\n",
              "      <th>Team 2</th>\n",
              "      <th>Winner</th>\n",
              "      <th>Margin</th>\n",
              "      <th>Ground</th>\n",
              "      <th>Match Date</th>\n",
              "    </tr>\n",
              "  </thead>\n",
              "  <tbody>\n",
              "    <tr>\n",
              "      <th>0</th>\n",
              "      <td>ODI # 1</td>\n",
              "      <td>Australia</td>\n",
              "      <td>England</td>\n",
              "      <td>Australia</td>\n",
              "      <td>5 wickets</td>\n",
              "      <td>Melbourne</td>\n",
              "      <td>Jan 5, 1971</td>\n",
              "    </tr>\n",
              "    <tr>\n",
              "      <th>1</th>\n",
              "      <td>ODI # 2</td>\n",
              "      <td>England</td>\n",
              "      <td>Australia</td>\n",
              "      <td>England</td>\n",
              "      <td>6 wickets</td>\n",
              "      <td>Manchester</td>\n",
              "      <td>Aug 24, 1972</td>\n",
              "    </tr>\n",
              "    <tr>\n",
              "      <th>2</th>\n",
              "      <td>ODI # 3</td>\n",
              "      <td>England</td>\n",
              "      <td>Australia</td>\n",
              "      <td>Australia</td>\n",
              "      <td>5 wickets</td>\n",
              "      <td>Lord's</td>\n",
              "      <td>Aug 26, 1972</td>\n",
              "    </tr>\n",
              "    <tr>\n",
              "      <th>3</th>\n",
              "      <td>ODI # 4</td>\n",
              "      <td>England</td>\n",
              "      <td>Australia</td>\n",
              "      <td>England</td>\n",
              "      <td>2 wickets</td>\n",
              "      <td>Birmingham</td>\n",
              "      <td>Aug 28, 1972</td>\n",
              "    </tr>\n",
              "    <tr>\n",
              "      <th>4</th>\n",
              "      <td>ODI # 5</td>\n",
              "      <td>New Zealand</td>\n",
              "      <td>Pakistan</td>\n",
              "      <td>New Zealand</td>\n",
              "      <td>22 runs</td>\n",
              "      <td>Christchurch</td>\n",
              "      <td>Feb 11, 1973</td>\n",
              "    </tr>\n",
              "  </tbody>\n",
              "</table>\n",
              "</div>"
            ],
            "text/plain": [
              "  Scorecard       Team 1     Team 2  ...     Margin        Ground    Match Date\n",
              "0   ODI # 1    Australia    England  ...  5 wickets     Melbourne   Jan 5, 1971\n",
              "1   ODI # 2      England  Australia  ...  6 wickets    Manchester  Aug 24, 1972\n",
              "2   ODI # 3      England  Australia  ...  5 wickets        Lord's  Aug 26, 1972\n",
              "3   ODI # 4      England  Australia  ...  2 wickets    Birmingham  Aug 28, 1972\n",
              "4   ODI # 5  New Zealand   Pakistan  ...    22 runs  Christchurch  Feb 11, 1973\n",
              "\n",
              "[5 rows x 7 columns]"
            ]
          },
          "metadata": {
            "tags": []
          },
          "execution_count": 97
        }
      ]
    },
    {
      "cell_type": "code",
      "metadata": {
        "id": "E5eebpQP1-0C",
        "colab_type": "code",
        "colab": {}
      },
      "source": [
        ""
      ],
      "execution_count": 0,
      "outputs": []
    }
  ]
}